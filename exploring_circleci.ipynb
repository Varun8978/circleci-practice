{
 "cells": [
  {
   "cell_type": "markdown",
   "metadata": {},
   "source": [
    "# Optional: Exploring the CircleCI config file\n",
    "This notebook is for practicing CircleCI config setup with dummy API keys.\n",
    "We will also try some exercises to learn."
   ]
  },
  {
   "cell_type": "code",
   "execution_count": null,
   "metadata": {},
   "outputs": [],
   "source": [
    "import warnings\n",
    "warnings.filterwarnings('ignore')"
   ]
  },
  {
   "cell_type": "code",
   "execution_count": null,
   "metadata": {},
   "outputs": [],
   "source": [
    "from utils import get_circle_api_key, get_gh_api_key\n",
    "cci_api_key = get_circle_api_key()\n",
    "gh_api_key = get_gh_api_key()\n",
    "print('CircleCI Key:', cci_api_key)\n",
    "print('GitHub Key:', gh_api_key)"
   ]
  },
  {
   "cell_type": "markdown",
   "metadata": {},
   "source": [
    "## 📝 Exercise 1: Print API Keys Differently\n",
    "- Instead of printing directly, store them in a dictionary and print that dictionary."
   ]
  },
  {
   "cell_type": "code",
   "execution_count": null,
   "metadata": {},
   "outputs": [],
   "source": [
    "# TODO: Store the keys in a dictionary and print them\n",
    "keys = {\n",
    "    'circleci': cci_api_key,\n",
    "    'github': gh_api_key\n",
    "}\n",
    "print(keys)"
   ]
  },
  {
   "cell_type": "markdown",
   "metadata": {},
   "source": [
    "## 📝 Exercise 2: Simulate a Build Step\n",
    "Write a Python function that simulates a CI/CD build step by printing messages like 'Installing dependencies' and 'Running tests'."
   ]
  },
  {
   "cell_type": "code",
   "execution_count": null,
   "metadata": {},
   "outputs": [],
   "source": [
    "def simulate_build():\n",
    "    steps = [\n",
    "        'Checking out code...',\n",
    "        'Installing dependencies...',\n",
    "        'Running tests...',\n",
    "        'Build successful ✅'\n",
    "    ]\n",
    "    for step in steps:\n",
    "        print(step)\n",
    "\n",
    "# Run the simulation\n",
    "simulate_build()"
   ]
  },
  {
   "cell_type": "markdown",
   "metadata": {},
   "source": [
    "## 📝 Exercise 3: Modify the CircleCI Config\n",
    "- Open `.circleci/config.yml` file in this folder.\n",
    "- Add another job called `deploy` that just prints `Deploying to production...`.\n",
    "- Add this job to the workflow after the `build` job."
   ]
  }
 ],
 "metadata": {
  "kernelspec": {
   "display_name": "Python 3",
   "language": "python",
   "name": "python3"
  },
  "language_info": {
   "name": "python",
   "version": "3.9"
  }
 },
 "nbformat": 4,
 "nbformat_minor": 5
}
